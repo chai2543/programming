{
 "cells": [
  {
   "cell_type": "code",
   "execution_count": 1,
   "metadata": {},
   "outputs": [
    {
     "name": "stdout",
     "output_type": "stream",
     "text": [
      "H: 5\n",
      "U: 10\n",
      "D: 1\n",
      "1 day(s).\n"
     ]
    }
   ],
   "source": [
    "#ข้อที่1 หอยทากตัวหนึ่ง ตกลงไปในบ่อที่มีความสูง H เมตร มันพยายามจะไต่ให้ถึงปากบ่อ ในเวลากลางวันหอยทากไต่ขึ้นไปได้ U เมตร เวลากลางคืนมันนอนหลับจึงไม่ได้ไต่แต่กลับไถลลงมาเป็นระยะทาง D เมตร ให้เขียนโปรแกรมเพื่อหาว่าหอยทากจะใช้เวลากี่วันในการไต่ออกจากบ่อ (กำหนดให้หอยทากเริ่มไต่ในเวลากลางวัน)\n",
    "H = int(input(\"H: \"))\n",
    "U = int(input(\"U: \"))\n",
    "D = int(input(\"D: \"))\n",
    "k = 0\n",
    "day = 1\n",
    "while True:\n",
    "   k = k+U\n",
    "   if k>=H:\n",
    "        break\n",
    "   k = k-D\n",
    "   day = day+1\n",
    "print(day,\"day(s).\")"
   ]
  },
  {
   "cell_type": "code",
   "execution_count": 4,
   "metadata": {},
   "outputs": [
    {
     "name": "stdout",
     "output_type": "stream",
     "text": [
      "Enter number: 1001\n",
      "1111101001\n"
     ]
    }
   ],
   "source": [
    "#ข้อที่2 เขียนโปรแกรมรับจำนวนเต็มบวก 1 จำนวน จากนั้นให้แสดงผลลัพธ์เป็นจำนวนเต็มดังกล่าวที่เขียนอยู่ในรูปของตัวเลขฐาน สอง\n",
    "x = int(input(\"Enter number: \"))\n",
    "x0 = x\n",
    "sum = ''\n",
    "d = 0\n",
    "z = 0\n",
    "while True:\n",
    "    y = int(x%2)\n",
    "    x = int(x/2)\n",
    "    sum = str(y)+sum\n",
    "    if y==1:\n",
    "        z = z+2**d\n",
    "    if z==x0:\n",
    "        break\n",
    "    d = d+1\n",
    "z = int(sum)\n",
    "print(z)"
   ]
  },
  {
   "cell_type": "code",
   "execution_count": null,
   "metadata": {},
   "outputs": [],
   "source": [
    "#ข้อที่3 ร้านขายหนังสือร้านหนึ่ง พยายามเพิ่มยอดขายโดยการเสนอโปรโมชั่นพิเศษ ถ้าคุณซื้อหนังสือมากกว่า 3 เล่ม ที่มีมูลค่ารวมเกิน 500 บาท คุณจะได้ส่วนลด 10%\n",
    "count = int(input(\"How many books: \"))\n",
    "money = int(input(\"How much: \"))\n",
    "if count > 3 and money > 500:\n",
    "   s = money-money*0.1\n",
    "else:\n",
    "   s = money\n",
    "print(\"You have to pay\",int(s),\"bath.\")"
   ]
  },
  {
   "cell_type": "code",
   "execution_count": null,
   "metadata": {},
   "outputs": [],
   "source": [
    "#ข้อที่4ได้เงินเดือนคนละ5000 บาท มี10คน 10คนจะได้เงินกี่บาท\n",
    "a=int(input(\"จำนวนคน\"))\n",
    "a=int(input(\"ได้คนละ\"))\n",
    "print(\"ได้เงินทั้งหมด\",a*b,\"เงิน\")"
   ]
  },
  {
   "cell_type": "code",
   "execution_count": null,
   "metadata": {},
   "outputs": [],
   "source": [
    "#ข้อ5 ผมมีลูกตะกร้อ10ลูกมีลูกปิงปองอีก20ลูกเอาไปแบ่งน้อง5คนคนละเท่าๆกันน้องจะได้รับคนละกี่ลูก\n",
    "a=int(input(\"ผมมีลูกบอล\"))\n",
    "b=int(input(\"มีลูกปิงปอง\"))\n",
    "c=int(input(\"เอาไปแบ่งน้อง\"))\n",
    "print(\"ผมมีลูกบอลและลูกปิงปองทั้งหมด\",a+b,\"ลูก\")\n",
    "print(\"เอาไปแบ่งน้อง\",(a+b)/c,\"ลูก\")"
   ]
  },
  {
   "cell_type": "code",
   "execution_count": null,
   "metadata": {},
   "outputs": [],
   "source": [
    "#ข้อ6 ซื้อปืนเสื้อ6กระบอกราคากระบอกละ1500บาทจะต้องจ่ายเงินกี่บาท\n",
    "a=int(input(\"ซื้อปืน\"))\n",
    "b=int(input(\"ราคากระบอกละ\"))\n",
    "print(\"ปืน6กระบอกราคา\",a*b,\"บาท\")"
   ]
  },
  {
   "cell_type": "code",
   "execution_count": null,
   "metadata": {},
   "outputs": [],
   "source": [
    "#ข้อที่7 ให้เขียนโปรแกรมรับจำนวนเต็ม N และ K จากนั้นพิมพ์เลขตั้งแต่ 1 ถึง N ที่ K หารลงตัว\n",
    "n = int(input(\"Enter N: \"))\n",
    "k = int(input(\"Enter K: \"))\n",
    "for x in range(1,n+1):\n",
    "   if  x%k == 0:\n",
    "      print(x)"
   ]
  },
  {
   "cell_type": "code",
   "execution_count": null,
   "metadata": {},
   "outputs": [],
   "source": [
    "#ข้อ8 เขียนโปรแกรมรับจำนวนเต็มบวก 1 จำนวน จากนั้นให้แสดงผลลัพธ์เป็นจำนวนเต็มดังกล่าวที่เขียนอยู่ในรูปของตัวเลขฐาน สอง\n",
    "x = int(input(\"Enter number: \"))\n",
    "x0 = x\n",
    "sum = ''\n",
    "d = 0\n",
    "z = 0\n",
    "while True:\n",
    "   y = int(x%2)\n",
    "   x = int(x/2)\n",
    "   sum = str(y)+sum\n",
    "   if y==1:\n",
    "      z = z+2**d\n",
    "   if z==x0:\n",
    "      break\n",
    "   d = d+1\n",
    "z = int(sum)\n",
    "print(z)"
   ]
  },
  {
   "cell_type": "code",
   "execution_count": null,
   "metadata": {},
   "outputs": [],
   "source": [
    "#ข้อ9 หาพื้นที่วงกลม\n",
    "import math\n",
    "radius = int(input(\"ค่ารัศมี:\"))\n",
    "result = 2*math.pi*radius\n",
    "print(\"พืนที่วงกลม=\",result)"
   ]
  },
  {
   "cell_type": "code",
   "execution_count": null,
   "metadata": {},
   "outputs": [],
   "source": [
    "#ข้อ10 กำหนดองศาแล้วนำไปหาค่าsin cos tan\n",
    "import math\n",
    "degree = float(input(\"ใส่องศา:\"))\n",
    "sin      = math.sin(degree)\n",
    "cos     = math.cos(degree)\n",
    "tan     = math.tan(degree)\n",
    "print(\"sin = \", sin, \"cos =\",cos, \"tan = \",tan)"
   ]
  }
 ],
 "metadata": {
  "kernelspec": {
   "display_name": "Python 3",
   "language": "python",
   "name": "python3"
  },
  "language_info": {
   "codemirror_mode": {
    "name": "ipython",
    "version": 3
   },
   "file_extension": ".py",
   "mimetype": "text/x-python",
   "name": "python",
   "nbconvert_exporter": "python",
   "pygments_lexer": "ipython3",
   "version": "3.7.3"
  }
 },
 "nbformat": 4,
 "nbformat_minor": 2
}
